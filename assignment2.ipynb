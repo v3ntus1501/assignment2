{
 "cells": [
  {
   "cell_type": "markdown",
   "metadata": {},
   "source": [
    "Task 1: Q1(1)"
   ]
  },
  {
   "cell_type": "code",
   "execution_count": 1,
   "metadata": {},
   "outputs": [
    {
     "name": "stdout",
     "output_type": "stream",
     "text": [
      "15\n"
     ]
    }
   ],
   "source": [
    "def my_reduce(function,sequence):\n",
    "    leng=len(sequence)\n",
    "    para1=sequence[0]\n",
    "    for i in range(1,leng):\n",
    "        para2=sequence[i]\n",
    "        para1=function(para1,para2)\n",
    "    return para1\n",
    "\n",
    "\n",
    "def summ(x,y):\n",
    "    return x+y\n",
    "lis=[1,2,3,4,5]\n",
    "print(my_reduce(summ,lis))"
   ]
  },
  {
   "cell_type": "markdown",
   "metadata": {},
   "source": [
    "Task 1: Q1(2)"
   ]
  },
  {
   "cell_type": "code",
   "execution_count": 2,
   "metadata": {},
   "outputs": [
    {
     "name": "stdout",
     "output_type": "stream",
     "text": [
      "[0, 1, 2, 3]\n"
     ]
    }
   ],
   "source": [
    "def my_filter(function,iterable):\n",
    "    res=[]\n",
    "    for i in iterable:\n",
    "        if function(i):\n",
    "            res.append(i)\n",
    "    return res\n",
    "\n",
    "def is_positive(n):\n",
    "    if n>=0:\n",
    "        return True\n",
    "    \n",
    "l=[-6,-5,-4,0,1,2,3]\n",
    "print(my_filter(is_positive,l))"
   ]
  },
  {
   "cell_type": "markdown",
   "metadata": {},
   "source": [
    "Task 1: Q2"
   ]
  },
  {
   "cell_type": "code",
   "execution_count": 3,
   "metadata": {},
   "outputs": [
    {
     "name": "stdout",
     "output_type": "stream",
     "text": [
      "['A', 'C', 'A', 'D', 'G', 'I', 'L', 'D']\n",
      "['x', 'xx', 'xxx', 'xxxx', 'y', 'yy', 'yyy', 'yyyy', 'z', 'zz', 'zzz', 'zzzz']\n",
      "['x', 'y', 'z', 'xx', 'yy', 'zz', 'xx', 'yy', 'zz', 'xxxx', 'yyyy', 'zzzz']\n",
      "[[2], [3], [4], [3], [4], [5], [4], [5], [6]]\n",
      "[[2, 3, 4, 5], [3, 4, 5, 6], [4, 5, 6, 7], [5, 6, 7, 8]]\n",
      "[(1, 1), (2, 1), (3, 1), (1, 2), (2, 2), (3, 2), (1, 3), (2, 3), (3, 3)]\n"
     ]
    }
   ],
   "source": [
    "li1=['ACADGILD']\n",
    "print([j for i in li1 for j in i])\n",
    "\n",
    "li2=['x','y','z']#'xyz'\n",
    "print([i*j for i in li2 for j in range(1,5)] )\n",
    "\n",
    "letter = ['x','y','z']\n",
    "print([k*j*i for i in range(1,3) for j in range(1,3) for k in letter])\n",
    "\n",
    "lis1=[2,3,4]\n",
    "print([[i+j] for i in range(2,5) for j in range(0,3)])\n",
    "\n",
    "lis1=[2,3,4,5]\n",
    "print([[i+j for j in lis1]for i in range(4)])\n",
    "\n",
    "print([(j,i) for i in range(1,4) for j in range(1,4)])"
   ]
  },
  {
   "cell_type": "markdown",
   "metadata": {},
   "source": [
    "Task 1: Q3"
   ]
  },
  {
   "cell_type": "code",
   "execution_count": 4,
   "metadata": {},
   "outputs": [
    {
     "name": "stdout",
     "output_type": "stream",
     "text": [
      "went\n"
     ]
    }
   ],
   "source": [
    "words=['go','went','gone']\n",
    "def longestWord(lis):\n",
    "    long=''\n",
    "    for i in lis:\n",
    "        if len(i)>len(long):\n",
    "            long=i\n",
    "    return long\n",
    "print(longestWord(words))"
   ]
  },
  {
   "cell_type": "markdown",
   "metadata": {},
   "source": [
    "Task 2: Q1(1)"
   ]
  },
  {
   "cell_type": "code",
   "execution_count": 6,
   "metadata": {},
   "outputs": [
    {
     "name": "stdout",
     "output_type": "stream",
     "text": [
      "6.0\n"
     ]
    }
   ],
   "source": [
    "class Triangle:\n",
    "    \n",
    "    def __init__(self,a,b,c):\n",
    "        self.a=a\n",
    "        self.b=b\n",
    "        self.c=c\n",
    "        \n",
    "class Calculation(Triangle):\n",
    "    \n",
    "    def __init__(self,*args):\n",
    "        super(Calculation,self).__init__(*args)\n",
    "\n",
    "    def get_area(self):\n",
    "        a=self.a\n",
    "        b=self.b\n",
    "        c=self.c\n",
    "        s = (a + b + c) / 2\n",
    "        return (s*(s-a)*(s-b)*(s-c)) ** 0.5\n",
    "    \n",
    "    \n",
    "\n",
    "tri = Calculation(3,4,5)\n",
    "print(tri.get_area())"
   ]
  },
  {
   "cell_type": "markdown",
   "metadata": {},
   "source": [
    "Task 2: Q1(2)"
   ]
  },
  {
   "cell_type": "code",
   "execution_count": 7,
   "metadata": {},
   "outputs": [
    {
     "name": "stdout",
     "output_type": "stream",
     "text": [
      "['finished']\n"
     ]
    }
   ],
   "source": [
    "word=['do','did','done','go','went','gone','finished']\n",
    "def filter_long_words(lis,n):\n",
    "    return [i for i in lis if len(i)>n]\n",
    "print(filter_long_words(word,4))"
   ]
  },
  {
   "cell_type": "markdown",
   "metadata": {},
   "source": [
    "Task 2: Q2(1)"
   ]
  },
  {
   "cell_type": "code",
   "execution_count": 8,
   "metadata": {},
   "outputs": [
    {
     "name": "stdout",
     "output_type": "stream",
     "text": [
      "[2, 3, 4]\n"
     ]
    }
   ],
   "source": [
    "li=['ab','cde','erty']\n",
    "def word_len(l):\n",
    "    return [len(i) for i in l]\n",
    "print(word_len(li))"
   ]
  },
  {
   "cell_type": "markdown",
   "metadata": {},
   "source": [
    "Task 2: Q2(2)"
   ]
  },
  {
   "cell_type": "code",
   "execution_count": 9,
   "metadata": {},
   "outputs": [
    {
     "name": "stdout",
     "output_type": "stream",
     "text": [
      "True\n"
     ]
    }
   ],
   "source": [
    "def is_vowel(alph):\n",
    "    vowel=['a','e','i','o','u']\n",
    "    if alph.lower() in vowel:\n",
    "        return True\n",
    "    return False\n",
    "\n",
    "print(is_vowel('A'))"
   ]
  },
  {
   "cell_type": "code",
   "execution_count": null,
   "metadata": {},
   "outputs": [],
   "source": []
  }
 ],
 "metadata": {
  "kernelspec": {
   "display_name": "Python 3",
   "language": "python",
   "name": "python3"
  },
  "language_info": {
   "codemirror_mode": {
    "name": "ipython",
    "version": 3
   },
   "file_extension": ".py",
   "mimetype": "text/x-python",
   "name": "python",
   "nbconvert_exporter": "python",
   "pygments_lexer": "ipython3",
   "version": "3.7.6"
  }
 },
 "nbformat": 4,
 "nbformat_minor": 4
}
